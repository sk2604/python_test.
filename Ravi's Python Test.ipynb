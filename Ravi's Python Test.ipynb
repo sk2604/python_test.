{
 "cells": [
  {
   "cell_type": "markdown",
   "id": "6cccbaec-1160-4458-ae32-a46028535f7e",
   "metadata": {},
   "source": [
    "#------Assgiment 1------------------------------"
   ]
  },
  {
   "cell_type": "code",
   "execution_count": null,
   "id": "d185ee2a-ae22-4dd8-9901-e4bd59afce4c",
   "metadata": {},
   "outputs": [],
   "source": [
    "#Wrtie a python program to print \"hello\"?"
   ]
  },
  {
   "cell_type": "code",
   "execution_count": null,
   "id": "de4aafd5-d8e3-40de-83e3-e4178a44fc24",
   "metadata": {},
   "outputs": [],
   "source": [
    "print(\"hello owlrd\")"
   ]
  },
  {
   "cell_type": "code",
   "execution_count": null,
   "id": "7955b665-d2f6-4620-b7e2-e9d231c6330f",
   "metadata": {},
   "outputs": [],
   "source": [
    "# 2. Write a program to do arithmetical operations and division\n"
   ]
  },
  {
   "cell_type": "code",
   "execution_count": 9,
   "id": "cb334556-ca3d-4823-b004-2df8568157ba",
   "metadata": {},
   "outputs": [
    {
     "name": "stdout",
     "output_type": "stream",
     "text": [
      "Addtition is  30\n",
      "Division is  2.0\n"
     ]
    }
   ],
   "source": [
    "number1=20\n",
    "number2=10\n",
    "total= number1+number2\n",
    "print(\"Addtition is \" ,total)\n",
    "divi=number1/number2\n",
    "print(\"Division is \",divi)"
   ]
  },
  {
   "cell_type": "code",
   "execution_count": null,
   "id": "581e7a95-50b8-43dc-ac2c-dfe531dd5025",
   "metadata": {},
   "outputs": [],
   "source": [
    "# find the area of triangle"
   ]
  },
  {
   "cell_type": "code",
   "execution_count": 5,
   "id": "f7433d72-e745-4bd8-b144-e73b692d35e3",
   "metadata": {},
   "outputs": [
    {
     "name": "stdin",
     "output_type": "stream",
     "text": [
      "Enter the value of base  12\n",
      "Enter the value of height:  12\n"
     ]
    },
    {
     "name": "stdout",
     "output_type": "stream",
     "text": [
      "The area of the triangle is  72.0\n"
     ]
    }
   ],
   "source": [
    "base=int(input(\"Enter the value of base \"))\n",
    "height=int(input(\"Enter the value of height: \"))\n",
    "area=1/2*(base*height)\n",
    "print(\"The area of the triangle is \",area)"
   ]
  },
  {
   "cell_type": "code",
   "execution_count": 11,
   "id": "f876ecae-3a7f-4822-958d-a6ddea9c8b0f",
   "metadata": {},
   "outputs": [
    {
     "name": "stdout",
     "output_type": "stream",
     "text": [
      "the value of a  12  and the b 13\n",
      "after swapping a is  13  and b is  12\n"
     ]
    }
   ],
   "source": [
    "a=12\n",
    "b=13\n",
    "print(\"the value of a \",a,\" and the b\",b)\n",
    "a,b=b,a\n",
    "print(\"after swapping a is \",a,\" and b is \",b)"
   ]
  },
  {
   "cell_type": "code",
   "execution_count": 20,
   "id": "e1de92b2-ae8e-4128-b112-5e412c8152c6",
   "metadata": {},
   "outputs": [
    {
     "name": "stdout",
     "output_type": "stream",
     "text": [
      "10000\n",
      "999\n"
     ]
    }
   ],
   "source": [
    "import random\n",
    "RandonNumber=random.randint(9999,10000)\n",
    "print(RandonNumber)\n",
    "print(random.randrange(999,1000,2))"
   ]
  },
  {
   "cell_type": "code",
   "execution_count": null,
   "id": "2c13a324-9887-4f0c-87a9-b0860de9d82a",
   "metadata": {},
   "outputs": [],
   "source": [
    "    "
   ]
  }
 ],
 "metadata": {
  "kernelspec": {
   "display_name": "Python 3 (ipykernel)",
   "language": "python",
   "name": "python3"
  },
  "language_info": {
   "codemirror_mode": {
    "name": "ipython",
    "version": 3
   },
   "file_extension": ".py",
   "mimetype": "text/x-python",
   "name": "python",
   "nbconvert_exporter": "python",
   "pygments_lexer": "ipython3",
   "version": "3.12.7"
  }
 },
 "nbformat": 4,
 "nbformat_minor": 5
}
