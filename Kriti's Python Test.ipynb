{
 "cells": [
  {
   "cell_type": "markdown",
   "id": "8e02e653-1a75-4141-a117-9ee4552573c6",
   "metadata": {},
   "source": [
    "leap year?"
   ]
  },
  {
   "cell_type": "code",
   "execution_count": 6,
   "id": "979bbb3f-39d3-439f-a135-ee5e62c10a3b",
   "metadata": {},
   "outputs": [
    {
     "name": "stdin",
     "output_type": "stream",
     "text": [
      "enter the year 2005\n"
     ]
    },
    {
     "name": "stdout",
     "output_type": "stream",
     "text": [
      "non leap year\n"
     ]
    }
   ],
   "source": [
    "year=int(input(\"enter the year\"))\n",
    "if year%4==0 and year %100!=0:\n",
    "    print(\"leap year\")\n",
    "\n",
    "else:\n",
    "    print(\"non leap year\")\n"
   ]
  },
  {
   "cell_type": "markdown",
   "id": "b10fc873-2b7f-4e20-93e9-deff662cbce0",
   "metadata": {},
   "source": [
    "find hcf"
   ]
  },
  {
   "cell_type": "code",
   "execution_count": 21,
   "id": "5a0da295-643a-4c28-b805-f4a726d5903f",
   "metadata": {},
   "outputs": [
    {
     "name": "stdout",
     "output_type": "stream",
     "text": [
      "12\n"
     ]
    }
   ],
   "source": [
    "def hcf(no1,no2):\n",
    "    while no2:\n",
    "        no1,no2=no2,no2%no1\n",
    "    return no1\n",
    "\n",
    "print(hcf(12,12))"
   ]
  },
  {
   "cell_type": "markdown",
   "id": "396db6d1-10d8-48a8-89c2-07d7888942a2",
   "metadata": {},
   "source": [
    "prime number in an interval of 1-10000"
   ]
  },
  {
   "cell_type": "code",
   "execution_count": 81,
   "id": "ae2492a1-c90e-4141-b3b4-8f348639562f",
   "metadata": {},
   "outputs": [
    {
     "name": "stdout",
     "output_type": "stream",
     "text": [
      "all the prime number [2, 3, 5, 7, 11, 13, 17, 19, 23, 29, 31, 37, 41, 43, 47, 53, 59, 61, 67, 71, 73, 79, 83, 89, 97, 101, 103, 107, 109, 113, 127, 131, 137, 139, 149, 151, 157, 163, 167, 173, 179, 181, 191, 193, 197, 199, 211, 223, 227, 229, 233, 239, 241, 251, 257, 263, 269, 271, 277, 281, 283, 293, 307, 311, 313, 317, 331, 337, 347, 349, 353, 359, 367, 373, 379, 383, 389, 397, 401, 409, 419, 421, 431, 433, 439, 443, 449, 457, 461, 463, 467, 479, 487, 491, 499, 503, 509, 521, 523, 541, 547, 557, 563, 569, 571, 577, 587, 593, 599, 601, 607, 613, 617, 619, 631, 641, 643, 647, 653, 659, 661, 673, 677, 683, 691, 701, 709, 719, 727, 733, 739, 743, 751, 757, 761, 769, 773, 787, 797, 809, 811, 821, 823, 827, 829, 839, 853, 857, 859, 863, 877, 881, 883, 887, 907, 911, 919, 929, 937, 941, 947, 953, 967, 971, 977, 983, 991, 997]\n"
     ]
    }
   ],
   "source": [
    "prime_number =[]\n",
    "for num in range(2,1000):\n",
    "    for i in range (2,int(num**0.5)+1):\n",
    "        if num % i==0:\n",
    "            break\n",
    "    else:\n",
    "        prime_number.append(num)\n",
    "\n",
    "print(\"all the prime number\",prime_number)"
   ]
  },
  {
   "cell_type": "markdown",
   "id": "570bfdb9-ffe9-4284-8f6b-fff921d5ac4e",
   "metadata": {},
   "source": [
    "armstorg number"
   ]
  },
  {
   "cell_type": "code",
   "execution_count": 141,
   "id": "1608fe46-8d74-42a9-a04f-89ecf1db4076",
   "metadata": {},
   "outputs": [
    {
     "name": "stdin",
     "output_type": "stream",
     "text": [
      "enter your number 67\n"
     ]
    },
    {
     "name": "stdout",
     "output_type": "stream",
     "text": [
      "no\n",
      "no\n"
     ]
    }
   ],
   "source": [
    "def armstorg(num,LISTnum):\n",
    "    strnum=str(num)\n",
    "    numlengh=len(strnum)\n",
    "    total=0\n",
    "    for digit in strnum:\n",
    "        total+int(digit)** numlengh\n",
    "        if int(i)==total:\n",
    "            LISTnum.append(total)\n",
    "\n",
    "arm=[]\n",
    "armstorg(1000,arm)\n",
    "number=int(input(\"enter your number\"))\n",
    "temp=number\n",
    "sum_be_cubes=0\n",
    "while temp>0:\n",
    "        digit=temp%10\n",
    "        sum_be_cubes+=digit**3\n",
    "        temp//=10\n",
    "        if sum_be_cubes==number:\n",
    "            print(f\"number\")\n",
    "        else:\n",
    "            print(f\"no\")"
   ]
  },
  {
   "cell_type": "code",
   "execution_count": null,
   "id": "a4522242-ba20-4641-9c5b-a78050fcb3cc",
   "metadata": {},
   "outputs": [],
   "source": []
  }
 ],
 "metadata": {
  "kernelspec": {
   "display_name": "Python [conda env:base] *",
   "language": "python",
   "name": "conda-base-py"
  },
  "language_info": {
   "codemirror_mode": {
    "name": "ipython",
    "version": 3
   },
   "file_extension": ".py",
   "mimetype": "text/x-python",
   "name": "python",
   "nbconvert_exporter": "python",
   "pygments_lexer": "ipython3",
   "version": "3.12.7"
  }
 },
 "nbformat": 4,
 "nbformat_minor": 5
}
